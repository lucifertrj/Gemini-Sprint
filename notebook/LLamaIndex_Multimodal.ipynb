{
  "nbformat": 4,
  "nbformat_minor": 0,
  "metadata": {
    "colab": {
      "provenance": []
    },
    "kernelspec": {
      "name": "python3",
      "display_name": "Python 3"
    },
    "language_info": {
      "name": "python"
    }
  },
  "cells": [
    {
      "cell_type": "markdown",
      "source": [
        "## Gemini, Qdrant and LlamaIndex - Multimodal RAG"
      ],
      "metadata": {
        "id": "xuYkRH82Udh-"
      }
    },
    {
      "cell_type": "markdown",
      "source": [
        "### Installation"
      ],
      "metadata": {
        "id": "zf6LjaKrU8js"
      }
    },
    {
      "cell_type": "code",
      "execution_count": 1,
      "metadata": {
        "colab": {
          "base_uri": "https://localhost:8080/"
        },
        "id": "5PXcSmY9D5e8",
        "outputId": "ba00adce-2fef-4425-862f-3aa1474a9819"
      },
      "outputs": [
        {
          "output_type": "stream",
          "name": "stdout",
          "text": [
            "Installing collected packages: llama-index-embeddings-gemini\n",
            "Successfully installed llama-index-embeddings-gemini-0.1.5\n"
          ]
        }
      ],
      "source": [
        "!pip install llama-index\n",
        "!pip install 'google-generativeai>=0.3.0' qdrant_client\n",
        "\n",
        "!pip install llama-index-multi-modal-llms-gemini\n",
        "!pip install llama-index-vector-stores-qdrant\n",
        "!pip install llama-index-embeddings-gemini"
      ]
    },
    {
      "cell_type": "markdown",
      "source": [
        "### Set up Gemini API and Check available Models"
      ],
      "metadata": {
        "id": "VQyoWQwaU_pR"
      }
    },
    {
      "cell_type": "code",
      "source": [
        "import google.generativeai as genai"
      ],
      "metadata": {
        "id": "7peGL1oZFr36"
      },
      "execution_count": 3,
      "outputs": []
    },
    {
      "cell_type": "code",
      "source": [
        "import os\n",
        "from getpass import getpass\n",
        "\n",
        "GOOGLE_API_KEY = getpass()\n",
        "os.environ[\"GOOGLE_API_KEY\"] = GOOGLE_API_KEY"
      ],
      "metadata": {
        "colab": {
          "base_uri": "https://localhost:8080/"
        },
        "id": "hok3CNprFRf6",
        "outputId": "c34a82fc-5e10-4c10-b9b2-1c907a63bda8"
      },
      "execution_count": 8,
      "outputs": [
        {
          "name": "stdout",
          "output_type": "stream",
          "text": [
            "··········\n"
          ]
        }
      ]
    },
    {
      "cell_type": "code",
      "source": [
        "for m in genai.list_models():\n",
        "  if 'generateContent' in m.supported_generation_methods:\n",
        "    print(m.name)"
      ],
      "metadata": {
        "colab": {
          "base_uri": "https://localhost:8080/"
        },
        "id": "iEHNvH5fFu8C",
        "outputId": "895774f0-5a8a-405e-cc73-3ea7ec71ebe3"
      },
      "execution_count": 4,
      "outputs": [
        {
          "output_type": "stream",
          "name": "stdout",
          "text": [
            "models/gemini-1.0-pro\n",
            "models/gemini-1.0-pro-001\n",
            "models/gemini-1.0-pro-latest\n",
            "models/gemini-1.0-pro-vision-latest\n",
            "models/gemini-pro\n",
            "models/gemini-pro-vision\n"
          ]
        }
      ]
    },
    {
      "cell_type": "markdown",
      "source": [
        "## Data Loading and extraction\n",
        "\n",
        "Download few png images of Famous Indian places and build a knowledge base"
      ],
      "metadata": {
        "id": "fJ8zRHJ9VFwh"
      }
    },
    {
      "cell_type": "code",
      "source": [
        "from llama_index.multi_modal_llms.gemini import GeminiMultiModal\n",
        "from llama_index.core.program import MultiModalLLMCompletionProgram\n",
        "from llama_index.core.output_parsers import PydanticOutputParser\n",
        "from llama_index.core.schema import TextNode\n",
        "from llama_index.core import SimpleDirectoryReader"
      ],
      "metadata": {
        "id": "poEoi2IuGTiB"
      },
      "execution_count": 6,
      "outputs": []
    },
    {
      "cell_type": "code",
      "source": [
        "from pydantic import BaseModel\n",
        "from PIL import Image\n",
        "import matplotlib.pyplot as plt\n",
        "\n",
        "class Indian_Places(BaseModel):\n",
        "    city_name: str\n",
        "    state_name: str\n",
        "    famous_food: str\n",
        "    history: str\n",
        "    review: str\n",
        "    description: str\n",
        "    nearby_tourist_places: str"
      ],
      "metadata": {
        "id": "pVDOZkLlIxHq"
      },
      "execution_count": 11,
      "outputs": []
    },
    {
      "cell_type": "code",
      "source": [
        "documents = SimpleDirectoryReader(\"./indian_places\")\n",
        "documents = documents.load_data()"
      ],
      "metadata": {
        "id": "Az1VGSBvGjvd"
      },
      "execution_count": 14,
      "outputs": []
    },
    {
      "cell_type": "markdown",
      "source": [
        "## Pydantic Multimodal Initiallization for Gemini Multimodal"
      ],
      "metadata": {
        "id": "Zvfw2AsMVQK1"
      }
    },
    {
      "cell_type": "code",
      "source": [
        "prompt_template_str = \"\"\"\\\n",
        "    You are an AI assistant your job is to summarize images, tables and text CONTEXT for retrieval \\\n",
        "    You MUST treat this job is coherent and honestly  \\\n",
        "    You MUST return the answer with json format \\\n",
        "\"\"\"\n",
        "\n",
        "def pydantic_gemini(\n",
        "    model_name, output_class, image_documents, prompt_template_str\n",
        "):\n",
        "    gemini_llm = GeminiMultiModal(model_name=model_name)\n",
        "    llm_program = MultiModalLLMCompletionProgram.from_defaults(\n",
        "        output_parser=PydanticOutputParser(output_class),\n",
        "        image_documents=image_documents,\n",
        "        prompt_template_str=prompt_template_str,\n",
        "        multi_modal_llm=gemini_llm,\n",
        "        verbose=True,\n",
        "    )\n",
        "    response = llm_program()\n",
        "    return response"
      ],
      "metadata": {
        "id": "U_7YJIZ6GE0A"
      },
      "execution_count": 15,
      "outputs": []
    },
    {
      "cell_type": "code",
      "source": [
        "type(documents)"
      ],
      "metadata": {
        "colab": {
          "base_uri": "https://localhost:8080/"
        },
        "id": "JqDjkhRWKyiM",
        "outputId": "5d22e1b9-0682-4806-cd0a-87a6874d166e"
      },
      "execution_count": 16,
      "outputs": [
        {
          "output_type": "execute_result",
          "data": {
            "text/plain": [
              "list"
            ]
          },
          "metadata": {},
          "execution_count": 16
        }
      ]
    },
    {
      "cell_type": "markdown",
      "source": [
        "## Extract data in JSON format"
      ],
      "metadata": {
        "id": "EP_Ea3OxVXfJ"
      }
    },
    {
      "cell_type": "code",
      "source": [
        "from PIL import Image"
      ],
      "metadata": {
        "id": "yS6rXosJSoI2"
      },
      "execution_count": 27,
      "outputs": []
    },
    {
      "cell_type": "code",
      "source": [
        "results = []\n",
        "for img_doc in documents:\n",
        "    pydantic_response = pydantic_gemini(\n",
        "        \"models/gemini-pro-vision\",\n",
        "        Indian_Places,\n",
        "        [img_doc],\n",
        "        prompt_template_str,\n",
        "    )\n",
        "    if \"coimbatore\" in img_doc.image_path:\n",
        "        for r in pydantic_response:\n",
        "            print(r)\n",
        "    results.append(pydantic_response)"
      ],
      "metadata": {
        "colab": {
          "base_uri": "https://localhost:8080/",
          "height": 974
        },
        "id": "cDELzBjGGfuL",
        "outputId": "50c4468c-5b1d-4973-d79c-a9691e0dd3d4"
      },
      "execution_count": 17,
      "outputs": [
        {
          "output_type": "stream",
          "name": "stdout",
          "text": [
            "\u001b[1;3;38;2;90;149;237m> Raw output:  {\n",
            "  \"city_name\": \"Coimbatore\",\n",
            "  \"state_name\": \"Tamil Nadu\",\n",
            "  \"famous_food\": \"South Indian\",\n",
            "  \"history\": \"Coimbatore is a city in the Indian state of Tamil Nadu. It is the second largest city in the state after Chennai. Coimbatore is known for its textile industry and is often referred to as the \\\"Manchester of South India\\\". The city is also home to several educational institutions and research centers.\",\n",
            "  \"review\": \"Coimbatore is a beautiful city with a rich history and culture. The city is home to several temples, mosques, and churches. The climate is tropical and the city experiences hot summers and mild winters. The city is well-connected by air, rail, and road. Coimbatore is a major industrial and commercial center and is home to several large corporations. The city is also a major educational center and is home to several universities and colleges.\",\n",
            "  \"description\": \"Coimbatore is a city in the Indian state of Tamil Nadu. It is the second largest city in the state after Chennai. Coimbatore is known for its textile industry and is often referred to as the \\\"Manchester of South India\\\". The city is also home to several educational institutions and research centers.\",\n",
            "  \"nearby_tourist_places\": \"Coimbatore is home to several tourist attractions, including the Adiyogi Shiva statue, the Perur Pateeswarar Temple, and the VOC Park and Zoo.\"\n",
            "}\n",
            "\u001b[0m('city_name', 'Coimbatore')\n",
            "('state_name', 'Tamil Nadu')\n",
            "('famous_food', 'South Indian')\n",
            "('history', 'Coimbatore is a city in the Indian state of Tamil Nadu. It is the second largest city in the state after Chennai. Coimbatore is known for its textile industry and is often referred to as the \"Manchester of South India\". The city is also home to several educational institutions and research centers.')\n",
            "('review', 'Coimbatore is a beautiful city with a rich history and culture. The city is home to several temples, mosques, and churches. The climate is tropical and the city experiences hot summers and mild winters. The city is well-connected by air, rail, and road. Coimbatore is a major industrial and commercial center and is home to several large corporations. The city is also a major educational center and is home to several universities and colleges.')\n",
            "('description', 'Coimbatore is a city in the Indian state of Tamil Nadu. It is the second largest city in the state after Chennai. Coimbatore is known for its textile industry and is often referred to as the \"Manchester of South India\". The city is also home to several educational institutions and research centers.')\n",
            "('nearby_tourist_places', 'Coimbatore is home to several tourist attractions, including the Adiyogi Shiva statue, the Perur Pateeswarar Temple, and the VOC Park and Zoo.')\n",
            "\u001b[1;3;38;2;90;149;237m> Raw output:  {\n",
            " \"city_name\": \"Agra\",\n",
            " \"state_name\": \"Uttar Pradesh\",\n",
            " \"famous_food\": \"Petha\",\n",
            " \"history\": \"Agra was the capital of the Mughal Empire from 1526 to 1658. It was also the capital of the Sur Empire from 1540 to 1556.\",\n",
            " \"review\": \"Agra is a beautiful city with a rich history. The Taj Mahal is one of the most iconic buildings in the world and is a must-see for any visitor to India.\",\n",
            " \"description\": \"Agra is a city on the banks of the Yamuna River in the state of Uttar Pradesh, India. It is the fourth-most populous city in Uttar Pradesh and the 23rd-most populous city in India.\",\n",
            " \"nearby_tourist_places\": \"Fatehpur Sikri, Akbar's Tomb, Agra Fort\"\n",
            "}\n",
            "\u001b[0m\u001b[1;3;38;2;90;149;237m> Raw output:  {\n",
            "  \"city_name\": \"New Delhi\",\n",
            "  \"state_name\": \"NCT\",\n",
            "  \"famous_food\": \"Chole Bhature\",\n",
            "  \"history\": \"New Delhi is the capital of India and a major tourist destination. It is home to many historical monuments, including the Red Fort, the Jama Masjid, and the Qutub Minar.\",\n",
            "  \"review\": \"New Delhi is a vibrant and exciting city with a lot to offer visitors. There are many things to see and do, and the food is delicious. I would highly recommend visiting New Delhi to anyone who is interested in learning more about India.\",\n",
            "  \"description\": \"New Delhi is a city that is full of history and culture. There are many things to see and do, and the food is delicious. I would highly recommend visiting New Delhi to anyone who is interested in learning more about India.\",\n",
            "  \"nearby_tourist_places\": \"The Red Fort, the Jama Masjid, and the Qutub Minar.\"\n",
            "}\n",
            "\u001b[0m\u001b[1;3;38;2;90;149;237m> Raw output:  Here's a JSON object based on the image:\n",
            "\n",
            "{\n",
            "  \"city_name\": \"New Delhi\",\n",
            "  \"state_name\": \"NCT\",\n",
            "  \"famous_food\": \"Chole Bhature\",\n",
            "  \"history\": \"New Delhi is the capital of India and is known for its rich history and culture. It is home to many historical monuments, including the Red Fort, the Jama Masjid, and the Qutub Minar.\",\n",
            "  \"review\": \"New Delhi is a great city to visit, with something to offer everyone. There are many historical monuments to explore, as well as a variety of museums, art galleries, and shopping malls. The city is also home to a number of parks and gardens, which are perfect for relaxing and enjoying the outdoors.\",\n",
            "  \"description\": \"New Delhi is a vibrant and exciting city that is full of life. There is always something going on, and there is always something new to see or do. The city is also home to a diverse population, which makes it a great place to learn about different cultures.\",\n",
            "  \"nearby_tourist_places\": \"There are many tourist places to visit in New Delhi, including the Red Fort, the Jama Masjid, the Qutub Minar, the Lotus Temple, the India Gate, and the Rashtrapati Bhavan.\"\n",
            "}\n",
            "\u001b[0m\u001b[1;3;38;2;90;149;237m> Raw output:  {\n",
            "  \"city_name\": \"Jaipur\",\n",
            "  \"state_name\": \"Rajasthan\",\n",
            "  \"famous_food\": \"Dal Baati Churma\",\n",
            "  \"history\": \"Jaipur was founded in 1727 by Maharaja Sawai Jai Singh II, the ruler of Amber.\",\n",
            "  \"review\": \"Jaipur is a beautiful city with a rich history and culture.\",\n",
            "  \"description\": \"Jaipur is the capital of Rajasthan and is known as the Pink City due to the color of its buildings.\",\n",
            "  \"nearby_tourist_places\": \"Amber Fort, Nahargarh Fort, Jaigarh Fort, Hawa Mahal, City Palace, Jantar Mantar\"\n",
            "}\n",
            "\u001b[0m"
          ]
        }
      ]
    },
    {
      "cell_type": "code",
      "source": [
        "nodes = []\n",
        "for res in results:\n",
        "    text_node = TextNode()\n",
        "    metadata = {}\n",
        "    for r in res:\n",
        "        if r[0] == \"description\":\n",
        "            text_node.text = r[1]\n",
        "        else:\n",
        "            metadata[r[0]] = r[1]\n",
        "    text_node.metadata = metadata\n",
        "    nodes.append(text_node)"
      ],
      "metadata": {
        "id": "acppfMTkF9jt"
      },
      "execution_count": 18,
      "outputs": []
    },
    {
      "cell_type": "markdown",
      "source": [
        "## Create Qdrant Client to store the knowledge base"
      ],
      "metadata": {
        "id": "TLY5HeV6Vd7U"
      }
    },
    {
      "cell_type": "code",
      "source": [
        "from llama_index.vector_stores.qdrant import QdrantVectorStore\n",
        "from llama_index.core import Settings\n",
        "from llama_index.core import StorageContext\n",
        "import qdrant_client\n",
        "\n",
        "\n",
        "client = qdrant_client.QdrantClient(path=\"qdrant_gemini_3\")\n",
        "vector_store = QdrantVectorStore(client=client, collection_name=\"collection\")"
      ],
      "metadata": {
        "id": "7cOofg4hG3hF"
      },
      "execution_count": 7,
      "outputs": []
    },
    {
      "cell_type": "code",
      "source": [
        "from llama_index.core import VectorStoreIndex, StorageContext\n",
        "from llama_index.embeddings.gemini import GeminiEmbedding\n",
        "from llama_index.llms.gemini import Gemini"
      ],
      "metadata": {
        "id": "xtBinZl6Lf7R"
      },
      "execution_count": 19,
      "outputs": []
    },
    {
      "cell_type": "markdown",
      "source": [
        "## For RAG setup Gemini Embeddings and LLM"
      ],
      "metadata": {
        "id": "_9AX9izjVngp"
      }
    },
    {
      "cell_type": "code",
      "source": [
        "Settings.embed_model = GeminiEmbedding(\n",
        "    model_name=\"models/embedding-001\", api_key=GOOGLE_API_KEY\n",
        ")\n",
        "Settings.llm = Gemini(api_key=GOOGLE_API_KEY)"
      ],
      "metadata": {
        "id": "2InyEXN1G92L"
      },
      "execution_count": 21,
      "outputs": []
    },
    {
      "cell_type": "code",
      "source": [
        "storage_context = StorageContext.from_defaults(vector_store=vector_store)\n",
        "\n",
        "index = VectorStoreIndex(\n",
        "    nodes=nodes,\n",
        "    storage_context=storage_context,\n",
        ")"
      ],
      "metadata": {
        "id": "dIBWuD7YLjQ9"
      },
      "execution_count": 22,
      "outputs": []
    },
    {
      "cell_type": "code",
      "source": [
        "query_engine = index.as_query_engine(\n",
        "    similarity_top_k=1,\n",
        ")"
      ],
      "metadata": {
        "id": "t4-eM8jhLsuO"
      },
      "execution_count": 23,
      "outputs": []
    },
    {
      "cell_type": "code",
      "source": [
        "response = query_engine.query(\n",
        "    \"which place belongs to Coimbatore from the given context, and tell about that given place history. Also tell whats the best food one can eat there?\"\n",
        ")\n",
        "print(response)"
      ],
      "metadata": {
        "colab": {
          "base_uri": "https://localhost:8080/",
          "height": 124
        },
        "id": "8uCaT5BHLx-q",
        "outputId": "39bb38b6-1a69-4de5-e1d6-63e0afd49210"
      },
      "execution_count": 29,
      "outputs": [
        {
          "output_type": "stream",
          "name": "stdout",
          "text": [
            "The Adiyogi Shiva statue is a 112-foot tall statue of Shiva located in Coimbatore, Tamil Nadu. It is the largest Shiva statue in the world. The statue was consecrated on 24 February 2017 by Sadhguru Jaggi Vasudev, the founder of the Isha Foundation.\n",
            "\n",
            "The statue is made of concrete and steel and is covered with 500 copper plates. The copper plates were donated by devotees from all over the world. The statue is a symbol of peace and unity and is a popular tourist destination.\n",
            "\n",
            "The best food to eat in Coimbatore is South Indian food. South Indian food is known for its use of spices and flavors. Some of the most popular South Indian dishes include idli, dosa, vada, and sambar.\n"
          ]
        }
      ]
    }
  ]
}